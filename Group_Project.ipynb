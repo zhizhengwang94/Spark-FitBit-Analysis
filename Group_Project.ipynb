{
 "cells": [
  {
   "cell_type": "markdown",
   "id": "d173dac8",
   "metadata": {},
   "source": [
    "# Sections\n",
    "* [Introduction](#0)\n",
    "* [1. Setup](#1)\n",
    "* [2. Data Import](#2)  \n",
    "* [3. Data Overview and Cleaning](#3)\n",
    "    * [3.1. Brief Overview of how the dataset we used for later analysis looks like](#3.1)\n",
    "    * [3.2. Idenfify date range, number of distinct users, and other ranges](#3.2)\n",
    "    * [3.3. Data cleaning for Missing Values or invalid entry](#3.3)\n",
    "* [4. Data Analysis and Visualization](#4)\n",
    "    * [4.1. Active users per day](#4.1)\n",
    "    * [4.2. We want to understand if there is relationship between calorie burned and total steps](#4.2)\n",
    "    * [4.3. A bar chart that shows calorie and step total for each day of week](#4.3)\n",
    "    * [4.4. Would the percentage of very active distance impact distance per step?](#4.4)\n",
    "    * [4.5. Pie chart to show percetage of activity intensity](#4.5)\n",
    "    * [4.6. Average very active Distance per very active minute for each user](#4.6)\n",
    "    * [4.7. Scatter plot Calories vs Time Slept](#4.7)\n",
    "    * [4.8. We want to analyze the correlation between hearrate, calories spending, intensitries, and steps](#4.8)\n",
    "* [5. Conclustion and Recommendation](#5)\n",
    "    * [5.1. Conclusion from Data Overview](#5.1)\n",
    "    * [5.2. Conclusion from Data Analysis](#5.2)\n",
    "    * [5.3. Recommendation](#5.3)"
   ]
  },
  {
   "cell_type": "markdown",
   "id": "bbc105ff",
   "metadata": {},
   "source": [
    "<a id='0'></a>\n",
    "## Introduction of the project"
   ]
  },
  {
   "cell_type": "markdown",
   "id": "bd4d2bf0",
   "metadata": {},
   "source": [
    "To better understand customer behavior through analyzing their activity during the day, calorie spending, total number of steps, or heartrate, etc"
   ]
  },
  {
   "cell_type": "markdown",
   "id": "65575b75",
   "metadata": {},
   "source": [
    "<a id='1'></a>\n",
    "## 1. Setup"
   ]
  },
  {
   "cell_type": "code",
   "execution_count": 1,
   "id": "12fa8b52",
   "metadata": {},
   "outputs": [],
   "source": [
    "import findspark\n",
    "findspark.init()\n",
    "import pandas as pd\n",
    "pd.set_option('display.max_colwidth', None)"
   ]
  },
  {
   "cell_type": "code",
   "execution_count": 2,
   "id": "fe83ebc1",
   "metadata": {
    "scrolled": true
   },
   "outputs": [
    {
     "name": "stderr",
     "output_type": "stream",
     "text": [
      "WARNING: An illegal reflective access operation has occurred\n",
      "WARNING: Illegal reflective access by org.apache.spark.unsafe.Platform (file:/opt/spark3/jars/spark-unsafe_2.12-3.2.1.jar) to constructor java.nio.DirectByteBuffer(long,int)\n",
      "WARNING: Please consider reporting this to the maintainers of org.apache.spark.unsafe.Platform\n",
      "WARNING: Use --illegal-access=warn to enable warnings of further illegal reflective access operations\n",
      "WARNING: All illegal access operations will be denied in a future release\n",
      "Setting default log level to \"WARN\".\n",
      "To adjust logging level use sc.setLogLevel(newLevel). For SparkR, use setLogLevel(newLevel).\n"
     ]
    },
    {
     "name": "stdout",
     "output_type": "stream",
     "text": [
      "This cluster relies on Spark '3.2.1'\n"
     ]
    }
   ],
   "source": [
    "from pyspark.sql.session import SparkSession\n",
    "\n",
    "spark = SparkSession.builder\\\n",
    "                    .appName(\"Group_Project\")\\\n",
    "                    .getOrCreate()\n",
    "\n",
    "print(f\"This cluster relies on Spark '{spark.version}'\")"
   ]
  },
  {
   "cell_type": "code",
   "execution_count": 3,
   "id": "e47b68b5",
   "metadata": {},
   "outputs": [
    {
     "data": {
      "text/html": [
       "\n",
       "<style>\n",
       ".output_png {\n",
       "    display: table-cell; \n",
       "    text-align: center;\n",
       "    vertical-align: middle;\n",
       "}\n",
       "</style>\n"
      ],
      "text/plain": [
       "<IPython.core.display.HTML object>"
      ]
     },
     "execution_count": 3,
     "metadata": {},
     "output_type": "execute_result"
    }
   ],
   "source": [
    "#Center the plots\n",
    "from IPython.core.display import HTML\n",
    "HTML(\"\"\"\n",
    "<style>\n",
    ".output_png {\n",
    "    display: table-cell; \n",
    "    text-align: center;\n",
    "    vertical-align: middle;\n",
    "}\n",
    "</style>\n",
    "\"\"\")"
   ]
  },
  {
   "cell_type": "markdown",
   "id": "d759522d",
   "metadata": {},
   "source": [
    "<a id='2'></a>\n",
    "## 2. Data Import"
   ]
  },
  {
   "cell_type": "code",
   "execution_count": 4,
   "id": "4065f09a",
   "metadata": {},
   "outputs": [],
   "source": [
    "#Package Imports\n",
    "from pyspark.sql.types import DoubleType, IntegerType,TimestampType\n",
    "from pyspark.sql.functions import col, corr\n",
    "from pyspark.sql.functions import input_file_name\n",
    "from pyspark.sql.functions import min, max\n",
    "from pyspark.sql.functions import avg,to_date,substring,count,split,concat_ws\n",
    "import matplotlib.pyplot as plt\n",
    "from pyspark.sql.functions import sum\n",
    "from pyspark.sql.functions import length,concat,lit,to_timestamp,date_add,length,split,when\n",
    "from pyspark.ml.stat import Correlation\n",
    "from pyspark.ml.feature import VectorAssembler"
   ]
  },
  {
   "cell_type": "code",
   "execution_count": 5,
   "id": "e93dba84",
   "metadata": {},
   "outputs": [],
   "source": [
    "# DataFrame creation\n",
    "FitaBasedailyActivity_mergedRaw = spark.read.csv(\"hdfs://localhost:9000/datalake/raw/dailyActivity_merged\",header=True)\n",
    "FitaBasedailyCalories_mergedRaw = spark.read.csv(\"hdfs://localhost:9000/datalake/raw/dailyCalories_merged\",header=True)\n",
    "FitaBasedailyIntensities_mergedRaw = spark.read.csv(\"hdfs://localhost:9000/datalake/raw/dailyIntensities_merged\",header=True)\n",
    "FitaBasedailySteps_mergedRaw = spark.read.csv(\"hdfs://localhost:9000/datalake/raw/dailySteps_merged\",header=True)\n",
    "FitaBaseheartrate_seconds_mergedRaw = spark.read.csv(\"hdfs://localhost:9000/datalake/raw/heartrate_seconds_merged\",header=True)\n",
    "FitaBasehourlyCalories_mergedRaw = spark.read.csv(\"hdfs://localhost:9000/datalake/raw/hourlyCalories_merged\",header=True)\n",
    "FitaBasehourlyIntensities_mergedRaw = spark.read.csv(\"hdfs://localhost:9000/datalake/raw/hourlyIntensities_merged\",header=True)\n",
    "FitaBasehourlySteps_mergedRaw = spark.read.csv(\"hdfs://localhost:9000/datalake/raw/hourlySteps_merged\",header=True)\n",
    "FitaBaseminuteCaloriesNarrow_mergedRaw = spark.read.csv(\"hdfs://localhost:9000/datalake/raw/minuteCaloriesNarrow_merged\",header=True)\n",
    "FitaBaseminuteCaloriesWide_mergedRaw = spark.read.csv(\"hdfs://localhost:9000/datalake/raw/minuteCaloriesWide_merged\",header=True)\n",
    "FitaBaseminuteIntensitiesNarrow_mergedRaw = spark.read.csv(\"hdfs://localhost:9000/datalake/raw/minuteIntensitiesNarrow_merged\",header=True)\n",
    "FitaBaseminuteIntensitiesWide_mergedRaw = spark.read.csv(\"hdfs://localhost:9000/datalake/raw/minuteIntensitiesWide_merged\",header=True)\n",
    "FitaBaseminuteMETsNarrow_mergedRaw = spark.read.csv(\"hdfs://localhost:9000/datalake/raw/minuteMETsNarrow_merged\",header=True)\n",
    "FitaBaseminuteSleep_mergedRaw = spark.read.csv(\"hdfs://localhost:9000/datalake/raw/minuteSleep_merged\",header=True)\n",
    "FitaBaseminuteStepsNarrow_mergedRaw = spark.read.csv(\"hdfs://localhost:9000/datalake/raw/minuteStepsNarrow_merged\",header=True)\n",
    "FitaBaseminuteStepsWide_mergedRaw = spark.read.csv(\"hdfs://localhost:9000/datalake/raw/minuteStepsWide_merged\",header=True)\n",
    "FitaBasesleepDay_mergedRaw = spark.read.csv(\"hdfs://localhost:9000/datalake/raw/sleepDay_merged\",header=True)\n",
    "FitaBaseweightLogInfo_mergedRaw = spark.read.csv(\"hdfs://localhost:9000/datalake/raw/weightLogInfo_merged\",header=True)"
   ]
  },
  {
   "cell_type": "markdown",
   "id": "7df191cb",
   "metadata": {},
   "source": [
    "<a id='3'></a>\n",
    "## 3. Data Overview and Cleaning"
   ]
  },
  {
   "cell_type": "markdown",
   "id": "1212b737",
   "metadata": {},
   "source": [
    "<a id='3.1'></a>\n",
    "#3.1 Brief Overview of how the dataset we used for later analysis looks like"
   ]
  },
  {
   "cell_type": "code",
   "execution_count": 6,
   "id": "6b161655",
   "metadata": {
    "scrolled": true
   },
   "outputs": [
    {
     "data": {
      "text/html": [
       "<div>\n",
       "<style scoped>\n",
       "    .dataframe tbody tr th:only-of-type {\n",
       "        vertical-align: middle;\n",
       "    }\n",
       "\n",
       "    .dataframe tbody tr th {\n",
       "        vertical-align: top;\n",
       "    }\n",
       "\n",
       "    .dataframe thead th {\n",
       "        text-align: right;\n",
       "    }\n",
       "</style>\n",
       "<table border=\"1\" class=\"dataframe\">\n",
       "  <thead>\n",
       "    <tr style=\"text-align: right;\">\n",
       "      <th></th>\n",
       "      <th>Id</th>\n",
       "      <th>ActivityDate</th>\n",
       "      <th>TotalSteps</th>\n",
       "      <th>TotalDistance</th>\n",
       "      <th>TrackerDistance</th>\n",
       "      <th>LoggedActivitiesDistance</th>\n",
       "      <th>VeryActiveDistance</th>\n",
       "      <th>ModeratelyActiveDistance</th>\n",
       "      <th>LightActiveDistance</th>\n",
       "      <th>SedentaryActiveDistance</th>\n",
       "      <th>VeryActiveMinutes</th>\n",
       "      <th>FairlyActiveMinutes</th>\n",
       "      <th>LightlyActiveMinutes</th>\n",
       "      <th>SedentaryMinutes</th>\n",
       "      <th>Calories</th>\n",
       "    </tr>\n",
       "  </thead>\n",
       "  <tbody>\n",
       "    <tr>\n",
       "      <th>0</th>\n",
       "      <td>1503960366</td>\n",
       "      <td>4/12/2016</td>\n",
       "      <td>13162</td>\n",
       "      <td>8.5</td>\n",
       "      <td>8.5</td>\n",
       "      <td>0</td>\n",
       "      <td>1.87999999523163</td>\n",
       "      <td>0.550000011920929</td>\n",
       "      <td>6.05999994277954</td>\n",
       "      <td>0</td>\n",
       "      <td>25</td>\n",
       "      <td>13</td>\n",
       "      <td>328</td>\n",
       "      <td>728</td>\n",
       "      <td>1985</td>\n",
       "    </tr>\n",
       "    <tr>\n",
       "      <th>1</th>\n",
       "      <td>1503960366</td>\n",
       "      <td>4/13/2016</td>\n",
       "      <td>10735</td>\n",
       "      <td>6.96999979019165</td>\n",
       "      <td>6.96999979019165</td>\n",
       "      <td>0</td>\n",
       "      <td>1.57000005245209</td>\n",
       "      <td>0.689999997615814</td>\n",
       "      <td>4.71000003814697</td>\n",
       "      <td>0</td>\n",
       "      <td>21</td>\n",
       "      <td>19</td>\n",
       "      <td>217</td>\n",
       "      <td>776</td>\n",
       "      <td>1797</td>\n",
       "    </tr>\n",
       "    <tr>\n",
       "      <th>2</th>\n",
       "      <td>1503960366</td>\n",
       "      <td>4/14/2016</td>\n",
       "      <td>10460</td>\n",
       "      <td>6.73999977111816</td>\n",
       "      <td>6.73999977111816</td>\n",
       "      <td>0</td>\n",
       "      <td>2.44000005722046</td>\n",
       "      <td>0.400000005960464</td>\n",
       "      <td>3.91000008583069</td>\n",
       "      <td>0</td>\n",
       "      <td>30</td>\n",
       "      <td>11</td>\n",
       "      <td>181</td>\n",
       "      <td>1218</td>\n",
       "      <td>1776</td>\n",
       "    </tr>\n",
       "    <tr>\n",
       "      <th>3</th>\n",
       "      <td>1503960366</td>\n",
       "      <td>4/15/2016</td>\n",
       "      <td>9762</td>\n",
       "      <td>6.28000020980835</td>\n",
       "      <td>6.28000020980835</td>\n",
       "      <td>0</td>\n",
       "      <td>2.14000010490417</td>\n",
       "      <td>1.25999999046326</td>\n",
       "      <td>2.82999992370605</td>\n",
       "      <td>0</td>\n",
       "      <td>29</td>\n",
       "      <td>34</td>\n",
       "      <td>209</td>\n",
       "      <td>726</td>\n",
       "      <td>1745</td>\n",
       "    </tr>\n",
       "    <tr>\n",
       "      <th>4</th>\n",
       "      <td>1503960366</td>\n",
       "      <td>4/16/2016</td>\n",
       "      <td>12669</td>\n",
       "      <td>8.15999984741211</td>\n",
       "      <td>8.15999984741211</td>\n",
       "      <td>0</td>\n",
       "      <td>2.71000003814697</td>\n",
       "      <td>0.409999996423721</td>\n",
       "      <td>5.03999996185303</td>\n",
       "      <td>0</td>\n",
       "      <td>36</td>\n",
       "      <td>10</td>\n",
       "      <td>221</td>\n",
       "      <td>773</td>\n",
       "      <td>1863</td>\n",
       "    </tr>\n",
       "    <tr>\n",
       "      <th>5</th>\n",
       "      <td>1503960366</td>\n",
       "      <td>4/17/2016</td>\n",
       "      <td>9705</td>\n",
       "      <td>6.48000001907349</td>\n",
       "      <td>6.48000001907349</td>\n",
       "      <td>0</td>\n",
       "      <td>3.19000005722046</td>\n",
       "      <td>0.779999971389771</td>\n",
       "      <td>2.50999999046326</td>\n",
       "      <td>0</td>\n",
       "      <td>38</td>\n",
       "      <td>20</td>\n",
       "      <td>164</td>\n",
       "      <td>539</td>\n",
       "      <td>1728</td>\n",
       "    </tr>\n",
       "    <tr>\n",
       "      <th>6</th>\n",
       "      <td>1503960366</td>\n",
       "      <td>4/18/2016</td>\n",
       "      <td>13019</td>\n",
       "      <td>8.59000015258789</td>\n",
       "      <td>8.59000015258789</td>\n",
       "      <td>0</td>\n",
       "      <td>3.25</td>\n",
       "      <td>0.639999985694885</td>\n",
       "      <td>4.71000003814697</td>\n",
       "      <td>0</td>\n",
       "      <td>42</td>\n",
       "      <td>16</td>\n",
       "      <td>233</td>\n",
       "      <td>1149</td>\n",
       "      <td>1921</td>\n",
       "    </tr>\n",
       "    <tr>\n",
       "      <th>7</th>\n",
       "      <td>1503960366</td>\n",
       "      <td>4/19/2016</td>\n",
       "      <td>15506</td>\n",
       "      <td>9.88000011444092</td>\n",
       "      <td>9.88000011444092</td>\n",
       "      <td>0</td>\n",
       "      <td>3.52999997138977</td>\n",
       "      <td>1.32000005245209</td>\n",
       "      <td>5.03000020980835</td>\n",
       "      <td>0</td>\n",
       "      <td>50</td>\n",
       "      <td>31</td>\n",
       "      <td>264</td>\n",
       "      <td>775</td>\n",
       "      <td>2035</td>\n",
       "    </tr>\n",
       "    <tr>\n",
       "      <th>8</th>\n",
       "      <td>1503960366</td>\n",
       "      <td>4/20/2016</td>\n",
       "      <td>10544</td>\n",
       "      <td>6.67999982833862</td>\n",
       "      <td>6.67999982833862</td>\n",
       "      <td>0</td>\n",
       "      <td>1.96000003814697</td>\n",
       "      <td>0.479999989271164</td>\n",
       "      <td>4.23999977111816</td>\n",
       "      <td>0</td>\n",
       "      <td>28</td>\n",
       "      <td>12</td>\n",
       "      <td>205</td>\n",
       "      <td>818</td>\n",
       "      <td>1786</td>\n",
       "    </tr>\n",
       "    <tr>\n",
       "      <th>9</th>\n",
       "      <td>1503960366</td>\n",
       "      <td>4/21/2016</td>\n",
       "      <td>9819</td>\n",
       "      <td>6.34000015258789</td>\n",
       "      <td>6.34000015258789</td>\n",
       "      <td>0</td>\n",
       "      <td>1.3400000333786</td>\n",
       "      <td>0.349999994039536</td>\n",
       "      <td>4.65000009536743</td>\n",
       "      <td>0</td>\n",
       "      <td>19</td>\n",
       "      <td>8</td>\n",
       "      <td>211</td>\n",
       "      <td>838</td>\n",
       "      <td>1775</td>\n",
       "    </tr>\n",
       "  </tbody>\n",
       "</table>\n",
       "</div>"
      ],
      "text/plain": [
       "           Id ActivityDate TotalSteps     TotalDistance   TrackerDistance  \\\n",
       "0  1503960366    4/12/2016      13162               8.5               8.5   \n",
       "1  1503960366    4/13/2016      10735  6.96999979019165  6.96999979019165   \n",
       "2  1503960366    4/14/2016      10460  6.73999977111816  6.73999977111816   \n",
       "3  1503960366    4/15/2016       9762  6.28000020980835  6.28000020980835   \n",
       "4  1503960366    4/16/2016      12669  8.15999984741211  8.15999984741211   \n",
       "5  1503960366    4/17/2016       9705  6.48000001907349  6.48000001907349   \n",
       "6  1503960366    4/18/2016      13019  8.59000015258789  8.59000015258789   \n",
       "7  1503960366    4/19/2016      15506  9.88000011444092  9.88000011444092   \n",
       "8  1503960366    4/20/2016      10544  6.67999982833862  6.67999982833862   \n",
       "9  1503960366    4/21/2016       9819  6.34000015258789  6.34000015258789   \n",
       "\n",
       "  LoggedActivitiesDistance VeryActiveDistance ModeratelyActiveDistance  \\\n",
       "0                        0   1.87999999523163        0.550000011920929   \n",
       "1                        0   1.57000005245209        0.689999997615814   \n",
       "2                        0   2.44000005722046        0.400000005960464   \n",
       "3                        0   2.14000010490417         1.25999999046326   \n",
       "4                        0   2.71000003814697        0.409999996423721   \n",
       "5                        0   3.19000005722046        0.779999971389771   \n",
       "6                        0               3.25        0.639999985694885   \n",
       "7                        0   3.52999997138977         1.32000005245209   \n",
       "8                        0   1.96000003814697        0.479999989271164   \n",
       "9                        0    1.3400000333786        0.349999994039536   \n",
       "\n",
       "  LightActiveDistance SedentaryActiveDistance VeryActiveMinutes  \\\n",
       "0    6.05999994277954                       0                25   \n",
       "1    4.71000003814697                       0                21   \n",
       "2    3.91000008583069                       0                30   \n",
       "3    2.82999992370605                       0                29   \n",
       "4    5.03999996185303                       0                36   \n",
       "5    2.50999999046326                       0                38   \n",
       "6    4.71000003814697                       0                42   \n",
       "7    5.03000020980835                       0                50   \n",
       "8    4.23999977111816                       0                28   \n",
       "9    4.65000009536743                       0                19   \n",
       "\n",
       "  FairlyActiveMinutes LightlyActiveMinutes SedentaryMinutes Calories  \n",
       "0                  13                  328              728     1985  \n",
       "1                  19                  217              776     1797  \n",
       "2                  11                  181             1218     1776  \n",
       "3                  34                  209              726     1745  \n",
       "4                  10                  221              773     1863  \n",
       "5                  20                  164              539     1728  \n",
       "6                  16                  233             1149     1921  \n",
       "7                  31                  264              775     2035  \n",
       "8                  12                  205              818     1786  \n",
       "9                   8                  211              838     1775  "
      ]
     },
     "execution_count": 6,
     "metadata": {},
     "output_type": "execute_result"
    }
   ],
   "source": [
    "FitaBasedailyActivity_mergedRaw.limit(10).toPandas()"
   ]
  },
  {
   "cell_type": "code",
   "execution_count": 7,
   "id": "19662f23",
   "metadata": {},
   "outputs": [
    {
     "name": "stdout",
     "output_type": "stream",
     "text": [
      "+----------+--------------------+-----+\n",
      "|        Id|                Time|Value|\n",
      "+----------+--------------------+-----+\n",
      "|2022484408|4/12/2016 7:21:00 AM|   97|\n",
      "|2022484408|4/12/2016 7:21:05 AM|  102|\n",
      "|2022484408|4/12/2016 7:21:10 AM|  105|\n",
      "|2022484408|4/12/2016 7:21:20 AM|  103|\n",
      "|2022484408|4/12/2016 7:21:25 AM|  101|\n",
      "|2022484408|4/12/2016 7:22:05 AM|   95|\n",
      "|2022484408|4/12/2016 7:22:10 AM|   91|\n",
      "|2022484408|4/12/2016 7:22:15 AM|   93|\n",
      "|2022484408|4/12/2016 7:22:20 AM|   94|\n",
      "|2022484408|4/12/2016 7:22:25 AM|   93|\n",
      "+----------+--------------------+-----+\n",
      "\n"
     ]
    }
   ],
   "source": [
    "FitaBaseheartrate_seconds_mergedRaw.limit(10).show()"
   ]
  },
  {
   "cell_type": "code",
   "execution_count": 8,
   "id": "2c545bcd",
   "metadata": {},
   "outputs": [
    {
     "data": {
      "text/html": [
       "<div>\n",
       "<style scoped>\n",
       "    .dataframe tbody tr th:only-of-type {\n",
       "        vertical-align: middle;\n",
       "    }\n",
       "\n",
       "    .dataframe tbody tr th {\n",
       "        vertical-align: top;\n",
       "    }\n",
       "\n",
       "    .dataframe thead th {\n",
       "        text-align: right;\n",
       "    }\n",
       "</style>\n",
       "<table border=\"1\" class=\"dataframe\">\n",
       "  <thead>\n",
       "    <tr style=\"text-align: right;\">\n",
       "      <th></th>\n",
       "      <th>Id</th>\n",
       "      <th>SleepDay</th>\n",
       "      <th>TotalSleepRecords</th>\n",
       "      <th>TotalMinutesAsleep</th>\n",
       "      <th>TotalTimeInBed</th>\n",
       "    </tr>\n",
       "  </thead>\n",
       "  <tbody>\n",
       "    <tr>\n",
       "      <th>0</th>\n",
       "      <td>1503960366</td>\n",
       "      <td>4/12/2016 12:00:00 AM</td>\n",
       "      <td>1</td>\n",
       "      <td>327</td>\n",
       "      <td>346</td>\n",
       "    </tr>\n",
       "    <tr>\n",
       "      <th>1</th>\n",
       "      <td>1503960366</td>\n",
       "      <td>4/13/2016 12:00:00 AM</td>\n",
       "      <td>2</td>\n",
       "      <td>384</td>\n",
       "      <td>407</td>\n",
       "    </tr>\n",
       "    <tr>\n",
       "      <th>2</th>\n",
       "      <td>1503960366</td>\n",
       "      <td>4/15/2016 12:00:00 AM</td>\n",
       "      <td>1</td>\n",
       "      <td>412</td>\n",
       "      <td>442</td>\n",
       "    </tr>\n",
       "    <tr>\n",
       "      <th>3</th>\n",
       "      <td>1503960366</td>\n",
       "      <td>4/16/2016 12:00:00 AM</td>\n",
       "      <td>2</td>\n",
       "      <td>340</td>\n",
       "      <td>367</td>\n",
       "    </tr>\n",
       "    <tr>\n",
       "      <th>4</th>\n",
       "      <td>1503960366</td>\n",
       "      <td>4/17/2016 12:00:00 AM</td>\n",
       "      <td>1</td>\n",
       "      <td>700</td>\n",
       "      <td>712</td>\n",
       "    </tr>\n",
       "    <tr>\n",
       "      <th>5</th>\n",
       "      <td>1503960366</td>\n",
       "      <td>4/19/2016 12:00:00 AM</td>\n",
       "      <td>1</td>\n",
       "      <td>304</td>\n",
       "      <td>320</td>\n",
       "    </tr>\n",
       "    <tr>\n",
       "      <th>6</th>\n",
       "      <td>1503960366</td>\n",
       "      <td>4/20/2016 12:00:00 AM</td>\n",
       "      <td>1</td>\n",
       "      <td>360</td>\n",
       "      <td>377</td>\n",
       "    </tr>\n",
       "    <tr>\n",
       "      <th>7</th>\n",
       "      <td>1503960366</td>\n",
       "      <td>4/21/2016 12:00:00 AM</td>\n",
       "      <td>1</td>\n",
       "      <td>325</td>\n",
       "      <td>364</td>\n",
       "    </tr>\n",
       "    <tr>\n",
       "      <th>8</th>\n",
       "      <td>1503960366</td>\n",
       "      <td>4/23/2016 12:00:00 AM</td>\n",
       "      <td>1</td>\n",
       "      <td>361</td>\n",
       "      <td>384</td>\n",
       "    </tr>\n",
       "    <tr>\n",
       "      <th>9</th>\n",
       "      <td>1503960366</td>\n",
       "      <td>4/24/2016 12:00:00 AM</td>\n",
       "      <td>1</td>\n",
       "      <td>430</td>\n",
       "      <td>449</td>\n",
       "    </tr>\n",
       "  </tbody>\n",
       "</table>\n",
       "</div>"
      ],
      "text/plain": [
       "           Id               SleepDay TotalSleepRecords TotalMinutesAsleep  \\\n",
       "0  1503960366  4/12/2016 12:00:00 AM                 1                327   \n",
       "1  1503960366  4/13/2016 12:00:00 AM                 2                384   \n",
       "2  1503960366  4/15/2016 12:00:00 AM                 1                412   \n",
       "3  1503960366  4/16/2016 12:00:00 AM                 2                340   \n",
       "4  1503960366  4/17/2016 12:00:00 AM                 1                700   \n",
       "5  1503960366  4/19/2016 12:00:00 AM                 1                304   \n",
       "6  1503960366  4/20/2016 12:00:00 AM                 1                360   \n",
       "7  1503960366  4/21/2016 12:00:00 AM                 1                325   \n",
       "8  1503960366  4/23/2016 12:00:00 AM                 1                361   \n",
       "9  1503960366  4/24/2016 12:00:00 AM                 1                430   \n",
       "\n",
       "  TotalTimeInBed  \n",
       "0            346  \n",
       "1            407  \n",
       "2            442  \n",
       "3            367  \n",
       "4            712  \n",
       "5            320  \n",
       "6            377  \n",
       "7            364  \n",
       "8            384  \n",
       "9            449  "
      ]
     },
     "execution_count": 8,
     "metadata": {},
     "output_type": "execute_result"
    }
   ],
   "source": [
    "FitaBasesleepDay_mergedRaw.limit(10).toPandas()"
   ]
  },
  {
   "cell_type": "code",
   "execution_count": 9,
   "id": "048598fb",
   "metadata": {},
   "outputs": [],
   "source": [
    "#The following files will also be used for this analysis\n",
    "\n",
    "#FitaBasehourlyCalories_mergedRaw\n",
    "#FitaBasehourlyIntensities_mergedRaw\n",
    "#FitaBasehourlySteps_mergedRaw\n"
   ]
  },
  {
   "cell_type": "markdown",
   "id": "86cea11d",
   "metadata": {},
   "source": [
    "<a id='3.2'></a>\n",
    "#3.2 Idenfify date range, number of distinct users, and other ranges"
   ]
  },
  {
   "cell_type": "code",
   "execution_count": 10,
   "id": "2b0e5675",
   "metadata": {
    "scrolled": true
   },
   "outputs": [
    {
     "name": "stdout",
     "output_type": "stream",
     "text": [
      "+-------+------------+\n",
      "|summary|ActivityDate|\n",
      "+-------+------------+\n",
      "|  count|         940|\n",
      "|   mean|        null|\n",
      "| stddev|        null|\n",
      "|    min|   4/12/2016|\n",
      "|    max|    5/9/2016|\n",
      "+-------+------------+\n",
      "\n"
     ]
    }
   ],
   "source": [
    "#3.2.1 Identify the date range\n",
    "FitaBasedailyActivity_mergedRaw.describe(['ActivityDate']).show()"
   ]
  },
  {
   "cell_type": "code",
   "execution_count": 11,
   "id": "4606e0bd",
   "metadata": {},
   "outputs": [
    {
     "data": {
      "text/plain": [
       "24"
      ]
     },
     "execution_count": 11,
     "metadata": {},
     "output_type": "execute_result"
    }
   ],
   "source": [
    "#3.2.2 Identify number of user\n",
    "FitaBasesleepDay_mergedRaw.select('Id').distinct().count()"
   ]
  },
  {
   "cell_type": "code",
   "execution_count": 12,
   "id": "b282f882",
   "metadata": {
    "scrolled": true
   },
   "outputs": [
    {
     "name": "stderr",
     "output_type": "stream",
     "text": [
      "                                                                                \r"
     ]
    }
   ],
   "source": [
    "#3.2.3 average, min, and max heartrate per user for any recorded data\n",
    "FitaBaseheartrate_seconds_mergedRaw\\\n",
    "    .withColumn('Value',col('Value').cast(DoubleType()))\\\n",
    "    .groupBy('Id').agg(avg('Value'),min('Value'),max('Value'))\\\n",
    "    .toPandas().to_csv('3_2_3_average_min_max_hearrate.csv')"
   ]
  },
  {
   "cell_type": "code",
   "execution_count": 13,
   "id": "e3ebff0d",
   "metadata": {
    "scrolled": true
   },
   "outputs": [],
   "source": [
    "#3.2.4 average, min, and max sleep minutes per user for any recorded data\n",
    "FitaBasesleepDay_mergedRaw\\\n",
    "    .withColumn('TotalMinutesAsleep',col('TotalMinutesAsleep').cast(IntegerType()))\\\n",
    "    .groupBy('Id').agg(avg('TotalMinutesAsleep').alias('AvgTotalMinutesAsleep'),min('TotalMinutesAsleep'),max('TotalMinutesAsleep'),count('TotalMinutesAsleep'))\\\n",
    "    .sort(col('AvgTotalMinutesAsleep'))\\\n",
    "    .toPandas().to_csv('3_2_4_average_min_max_sleep.csv')"
   ]
  },
  {
   "cell_type": "code",
   "execution_count": 14,
   "id": "ccaee9c8",
   "metadata": {},
   "outputs": [],
   "source": [
    "#3.2.5 average, min, and max sleep minutes per user for any recorded data\n",
    "FitaBasedailyActivity_mergedRaw\\\n",
    "    .withColumn('TotalSteps',col('TotalSteps').cast(IntegerType()))\\\n",
    "    .withColumn('TotalDistance',col('TotalDistance').cast(DoubleType()))\\\n",
    "    .groupBy('Id').agg(avg('TotalSteps'),min('TotalSteps'),max('TotalSteps'),count('TotalSteps'),\\\n",
    "                       avg('TotalDistance'),min('TotalDistance'),max('TotalDistance'),count('TotalDistance')\n",
    "                        )\\\n",
    "    .toPandas().to_csv('3_2_5_average_min_max_steps.csv')"
   ]
  },
  {
   "cell_type": "markdown",
   "id": "2ed962b0",
   "metadata": {},
   "source": [
    "<a id='3.3'></a>\n",
    "#3.3 Data cleaning for Missing Values or invalid entry"
   ]
  },
  {
   "cell_type": "markdown",
   "id": "729a521a",
   "metadata": {},
   "source": [
    "#From 3.2.4, we see users 2320127002, 7007744171, 4558609924 have average sleep minutes 61, 68.5, and 127.6 minutes respectively The count of each is 1, 2,and 5. In this case, since the average sleep minutes does not make sense in the real, we choose to remove these users and consider the data as invalid."
   ]
  },
  {
   "cell_type": "code",
   "execution_count": 15,
   "id": "ed1ce98b",
   "metadata": {
    "scrolled": false
   },
   "outputs": [],
   "source": [
    "FitaBasesleepDay_mergedRaw\\\n",
    "    = FitaBasesleepDay_mergedRaw\\\n",
    "    .where(\"Id not in ('2320127002','7007744171','4558609924')\")"
   ]
  },
  {
   "cell_type": "code",
   "execution_count": 16,
   "id": "9854337d",
   "metadata": {},
   "outputs": [],
   "source": [
    "FitaBasedailyActivity_mergedRaw\\\n",
    "    = FitaBasedailyActivity_mergedRaw\\\n",
    "    .where(\"Id not in ('2320127002','7007744171','4558609924')\")"
   ]
  },
  {
   "cell_type": "code",
   "execution_count": 17,
   "id": "6dd28e08",
   "metadata": {
    "scrolled": true
   },
   "outputs": [
    {
     "name": "stdout",
     "output_type": "stream",
     "text": [
      "+-------+--------------------+\n",
      "|summary|                  Id|\n",
      "+-------+--------------------+\n",
      "|  count|                 405|\n",
      "|   mean| 5.003150193982716E9|\n",
      "| stddev|2.0709883595079844E9|\n",
      "|    min|          1503960366|\n",
      "|    max|          8792009665|\n",
      "+-------+--------------------+\n",
      "\n"
     ]
    }
   ],
   "source": [
    "FitaBasesleepDay_mergedRaw.describe(['Id']).show()"
   ]
  },
  {
   "cell_type": "code",
   "execution_count": 18,
   "id": "5ca8057d",
   "metadata": {
    "scrolled": true
   },
   "outputs": [
    {
     "name": "stdout",
     "output_type": "stream",
     "text": [
      "+-------+--------------------+\n",
      "|summary|                  Id|\n",
      "+-------+--------------------+\n",
      "|  count|                 405|\n",
      "|   mean| 5.003150193982716E9|\n",
      "| stddev|2.0709883595079844E9|\n",
      "|    min|          1503960366|\n",
      "|    max|          8792009665|\n",
      "+-------+--------------------+\n",
      "\n"
     ]
    }
   ],
   "source": [
    "FitaBasesleepDay_mergedRaw.dropna().describe(['Id']).show()"
   ]
  },
  {
   "cell_type": "code",
   "execution_count": 19,
   "id": "d4a9833b",
   "metadata": {},
   "outputs": [
    {
     "name": "stdout",
     "output_type": "stream",
     "text": [
      "+-------+-------------------+\n",
      "|summary|                 Id|\n",
      "+-------+-------------------+\n",
      "|  count|                852|\n",
      "|   mean|4.892770814578638E9|\n",
      "| stddev|2.471315442250915E9|\n",
      "|    min|         1503960366|\n",
      "|    max|         8877689391|\n",
      "+-------+-------------------+\n",
      "\n"
     ]
    }
   ],
   "source": [
    "FitaBasedailyActivity_mergedRaw.describe(['Id']).show()"
   ]
  },
  {
   "cell_type": "code",
   "execution_count": 20,
   "id": "1690462b",
   "metadata": {},
   "outputs": [
    {
     "name": "stdout",
     "output_type": "stream",
     "text": [
      "+-------+-------------------+\n",
      "|summary|                 Id|\n",
      "+-------+-------------------+\n",
      "|  count|                852|\n",
      "|   mean|4.892770814578638E9|\n",
      "| stddev|2.471315442250915E9|\n",
      "|    min|         1503960366|\n",
      "|    max|         8877689391|\n",
      "+-------+-------------------+\n",
      "\n"
     ]
    }
   ],
   "source": [
    "FitaBasedailyActivity_mergedRaw.dropna().describe(['Id']).show()"
   ]
  },
  {
   "cell_type": "code",
   "execution_count": 21,
   "id": "1a1864bd",
   "metadata": {},
   "outputs": [
    {
     "name": "stderr",
     "output_type": "stream",
     "text": [
      "[Stage 56:=======>                                                  (1 + 7) / 8]\r"
     ]
    },
    {
     "name": "stdout",
     "output_type": "stream",
     "text": [
      "+-------+--------------------+\n",
      "|summary|                  Id|\n",
      "+-------+--------------------+\n",
      "|  count|             2483658|\n",
      "|   mean| 5.513764629269958E9|\n",
      "| stddev|1.9502237609635031E9|\n",
      "|    min|          2022484408|\n",
      "|    max|          8877689391|\n",
      "+-------+--------------------+\n",
      "\n"
     ]
    },
    {
     "name": "stderr",
     "output_type": "stream",
     "text": [
      "\r",
      "[Stage 56:===========================================>              (6 + 2) / 8]\r",
      "\r",
      "                                                                                \r"
     ]
    }
   ],
   "source": [
    "FitaBaseheartrate_seconds_mergedRaw.describe(['Id']).show()"
   ]
  },
  {
   "cell_type": "code",
   "execution_count": 22,
   "id": "3f99884a",
   "metadata": {},
   "outputs": [
    {
     "name": "stderr",
     "output_type": "stream",
     "text": [
      "[Stage 59:=======>                                                  (1 + 7) / 8]\r"
     ]
    },
    {
     "name": "stdout",
     "output_type": "stream",
     "text": [
      "+-------+--------------------+\n",
      "|summary|                  Id|\n",
      "+-------+--------------------+\n",
      "|  count|             2483658|\n",
      "|   mean| 5.513764629269958E9|\n",
      "| stddev|1.9502237609635031E9|\n",
      "|    min|          2022484408|\n",
      "|    max|          8877689391|\n",
      "+-------+--------------------+\n",
      "\n"
     ]
    },
    {
     "name": "stderr",
     "output_type": "stream",
     "text": [
      "\r",
      "                                                                                \r"
     ]
    }
   ],
   "source": [
    "FitaBaseheartrate_seconds_mergedRaw.dropna().describe(['Id']).show()"
   ]
  },
  {
   "cell_type": "markdown",
   "id": "404af43c",
   "metadata": {},
   "source": [
    "<a id='4'></a>\n",
    "## 4. Data Analysis and Visualization"
   ]
  },
  {
   "cell_type": "markdown",
   "id": "686d9799",
   "metadata": {},
   "source": [
    "4.1 - 4.3 is only to show we are able to convert Spark to Pandas and do further analysis, starting from 4.4, we will only use Pandas to draw the graph"
   ]
  },
  {
   "cell_type": "markdown",
   "id": "a7cef5bb",
   "metadata": {},
   "source": [
    "<a id='4.1'></a>\n",
    "#4.1 Active users per day "
   ]
  },
  {
   "cell_type": "code",
   "execution_count": 23,
   "id": "4df975a9",
   "metadata": {
    "scrolled": false
   },
   "outputs": [
    {
     "data": {
      "image/png": "[encoded data removed]",
      "text/plain": [
       "<Figure size 1080x360 with 1 Axes>"
      ]
     },
     "metadata": {
      "needs_background": "light"
     },
     "output_type": "display_data"
    }
   ],
   "source": [
    "\n",
    "plt.rcParams['figure.figsize'] = [15, 5]\n",
    "df = FitaBasedailyActivity_mergedRaw.select('ID','ActivityDate').toPandas()\n",
    "df['ActivityDate'] = pd.to_datetime(df['ActivityDate'], format='%m/%d/%Y').dt.strftime('%m-%d')\n",
    "df_hist = df.groupby(['ActivityDate'])['ID'].count().reset_index(name=\"count\")\n",
    "\n",
    "ax = df_hist.plot(x='ActivityDate',y='count',kind='bar',title='Active Users per day')\n",
    "\n",
    "for p in ax.patches:\n",
    "    ax.annotate(str(p.get_height()), (p.get_x() * 1.005, p.get_height() * 1.005))"
   ]
  },
  {
   "cell_type": "markdown",
   "id": "fe78321f",
   "metadata": {},
   "source": [
    "<a id='4.2'></a>\n",
    "#4.2 We want to understand if there is relationship between calorie burned and total steps"
   ]
  },
  {
   "cell_type": "code",
   "execution_count": 24,
   "id": "58ad62f5",
   "metadata": {},
   "outputs": [],
   "source": [
    "df_cal_step = FitaBasedailyCalories_mergedRaw\\\n",
    "    .where(\"Id not in ('2320127002','7007744171','4558609924')\").join(FitaBasedailySteps_mergedRaw,['ID','ActivityDay']).toPandas()"
   ]
  },
  {
   "cell_type": "code",
   "execution_count": 25,
   "id": "203a98f4",
   "metadata": {},
   "outputs": [
    {
     "data": {
      "text/plain": [
       "Id             object\n",
       "ActivityDay    object\n",
       "Calories        int64\n",
       "StepTotal       int64\n",
       "dtype: object"
      ]
     },
     "execution_count": 25,
     "metadata": {},
     "output_type": "execute_result"
    }
   ],
   "source": [
    "df_cal_step.head()\n",
    "df_cal_step[\"Calories\"] = pd.to_numeric(df_cal_step[\"Calories\"])\n",
    "df_cal_step[\"StepTotal\"] = pd.to_numeric(df_cal_step[\"StepTotal\"])\n",
    "df_cal_step.dtypes"
   ]
  },
  {
   "cell_type": "code",
   "execution_count": 47,
   "id": "aca67031",
   "metadata": {},
   "outputs": [],
   "source": [
    "df_cal_step.to_csv('4_2_forJorge.csv')"
   ]
  },
  {
   "cell_type": "code",
   "execution_count": 26,
   "id": "a0e45133",
   "metadata": {
    "scrolled": false
   },
   "outputs": [
    {
     "data": {
      "image/png": "[encoded data removed]",
      "text/plain": [
       "<Figure size 1080x360 with 1 Axes>"
      ]
     },
     "metadata": {
      "needs_background": "light"
     },
     "output_type": "display_data"
    }
   ],
   "source": [
    "ax = df_cal_step.plot(x='Calories',y='StepTotal',kind='scatter')"
   ]
  },
  {
   "cell_type": "code",
   "execution_count": 27,
   "id": "0cbacd3b",
   "metadata": {
    "scrolled": true
   },
   "outputs": [],
   "source": [
    "df_cal_step.corr().to_csv('4_2_corr.csv')"
   ]
  },
  {
   "cell_type": "markdown",
   "id": "39020464",
   "metadata": {},
   "source": [
    "<a id='4.3'></a>\n",
    "#4.3 A bar chart that shows calorie and step total for each day of week"
   ]
  },
  {
   "cell_type": "code",
   "execution_count": 28,
   "id": "76133734",
   "metadata": {
    "scrolled": true
   },
   "outputs": [
    {
     "data": {
      "text/html": [
       "<div>\n",
       "<style scoped>\n",
       "    .dataframe tbody tr th:only-of-type {\n",
       "        vertical-align: middle;\n",
       "    }\n",
       "\n",
       "    .dataframe tbody tr th {\n",
       "        vertical-align: top;\n",
       "    }\n",
       "\n",
       "    .dataframe thead th {\n",
       "        text-align: right;\n",
       "    }\n",
       "</style>\n",
       "<table border=\"1\" class=\"dataframe\">\n",
       "  <thead>\n",
       "    <tr style=\"text-align: right;\">\n",
       "      <th></th>\n",
       "      <th>Id</th>\n",
       "      <th>ActivityDay</th>\n",
       "      <th>Calories</th>\n",
       "      <th>StepTotal</th>\n",
       "      <th>DayofWeek</th>\n",
       "    </tr>\n",
       "  </thead>\n",
       "  <tbody>\n",
       "    <tr>\n",
       "      <th>0</th>\n",
       "      <td>1503960366</td>\n",
       "      <td>2016-04-12</td>\n",
       "      <td>1985</td>\n",
       "      <td>13162</td>\n",
       "      <td>Tuesday</td>\n",
       "    </tr>\n",
       "    <tr>\n",
       "      <th>1</th>\n",
       "      <td>1503960366</td>\n",
       "      <td>2016-04-13</td>\n",
       "      <td>1797</td>\n",
       "      <td>10735</td>\n",
       "      <td>Wednesday</td>\n",
       "    </tr>\n",
       "    <tr>\n",
       "      <th>2</th>\n",
       "      <td>1503960366</td>\n",
       "      <td>2016-04-14</td>\n",
       "      <td>1776</td>\n",
       "      <td>10460</td>\n",
       "      <td>Thursday</td>\n",
       "    </tr>\n",
       "    <tr>\n",
       "      <th>3</th>\n",
       "      <td>1503960366</td>\n",
       "      <td>2016-04-15</td>\n",
       "      <td>1745</td>\n",
       "      <td>9762</td>\n",
       "      <td>Friday</td>\n",
       "    </tr>\n",
       "    <tr>\n",
       "      <th>4</th>\n",
       "      <td>1503960366</td>\n",
       "      <td>2016-04-16</td>\n",
       "      <td>1863</td>\n",
       "      <td>12669</td>\n",
       "      <td>Saturday</td>\n",
       "    </tr>\n",
       "  </tbody>\n",
       "</table>\n",
       "</div>"
      ],
      "text/plain": [
       "           Id ActivityDay  Calories  StepTotal  DayofWeek\n",
       "0  1503960366  2016-04-12      1985      13162    Tuesday\n",
       "1  1503960366  2016-04-13      1797      10735  Wednesday\n",
       "2  1503960366  2016-04-14      1776      10460   Thursday\n",
       "3  1503960366  2016-04-15      1745       9762     Friday\n",
       "4  1503960366  2016-04-16      1863      12669   Saturday"
      ]
     },
     "execution_count": 28,
     "metadata": {},
     "output_type": "execute_result"
    }
   ],
   "source": [
    "df_cal_step['ActivityDay'] = pd.to_datetime(df_cal_step['ActivityDay'], format='%m/%d/%Y')\n",
    "df_cal_step['DayofWeek'] = df_cal_step['ActivityDay'].dt.day_name()\n",
    "df_cal_step.head()"
   ]
  },
  {
   "cell_type": "code",
   "execution_count": 29,
   "id": "1890db70",
   "metadata": {
    "scrolled": true
   },
   "outputs": [],
   "source": [
    "days = [ 'Monday', 'Tuesday', 'Wednesday', 'Thursday', 'Friday', 'Saturday', 'Sunday']\n",
    "cal_step_avg = df_cal_step[['Calories','StepTotal','DayofWeek']].groupby('DayofWeek').mean().reindex(days).reset_index()\n",
    "cal_step_avg['Calories'] = cal_step_avg['Calories'].round(2)\n",
    "cal_step_avg['StepTotal'] = cal_step_avg['StepTotal'].round(2)\n",
    "cal_step_avg.to_csv('4_3_DayofWeek.csv')"
   ]
  },
  {
   "cell_type": "code",
   "execution_count": 30,
   "id": "0b7fa18f",
   "metadata": {
    "scrolled": true
   },
   "outputs": [
    {
     "data": {
      "image/png": "[encoded data removed]",
      "text/plain": [
       "<Figure size 1080x360 with 1 Axes>"
      ]
     },
     "metadata": {
      "needs_background": "light"
     },
     "output_type": "display_data"
    }
   ],
   "source": [
    "ax = cal_step_avg.plot(x='DayofWeek',y=['Calories','StepTotal'],kind='bar')\n",
    "\n",
    "for p in ax.patches:\n",
    "    ax.annotate(str(p.get_height()), (p.get_x() * 0.98, p.get_height() * 1.01))"
   ]
  },
  {
   "cell_type": "markdown",
   "id": "fe8b8c6b",
   "metadata": {},
   "source": [
    "<a id='4.4'></a>\n",
    "#4.4 Would the percentage of very active distance impact distance per step?"
   ]
  },
  {
   "cell_type": "code",
   "execution_count": 31,
   "id": "a9a54fc7",
   "metadata": {
    "scrolled": true
   },
   "outputs": [],
   "source": [
    "FitaBasedailyActivity_mergedRaw.select('TotalSteps','TotalDistance','VeryActiveDistance').toPandas().to_csv('4_4_percentageactive.csv')"
   ]
  },
  {
   "cell_type": "code",
   "execution_count": 32,
   "id": "1595c185",
   "metadata": {},
   "outputs": [],
   "source": [
    "fitadf = FitaBasedailyActivity_mergedRaw.select('TotalSteps','TotalDistance','VeryActiveDistance')\\\n",
    "    .withColumn('TotalSteps',col('TotalSteps').cast(IntegerType()))\\\n",
    "    .withColumn('TotalDistance',col('TotalDistance').cast(DoubleType()))\\\n",
    "    .withColumn('VeryActiveDistance',col('VeryActiveDistance').cast(DoubleType()))\\\n",
    "    .withColumn('DistancePerStep',col('TotalDistance')*1000/col('TotalSteps'))\\\n",
    "    .withColumn('VeryActiveDistanceRate',col('VeryActiveDistance')/col('TotalDistance'))\\\n",
    "    .select(corr(col('DistancePerStep'),col('VeryActiveDistanceRate')))\\\n",
    "    .toPandas().to_csv('4_4_corr.csv')"
   ]
  },
  {
   "cell_type": "markdown",
   "id": "b935c04e",
   "metadata": {},
   "source": [
    "<a id='4.5'></a>\n",
    "#4.5 Pie chart to show percetage of activity intensity"
   ]
  },
  {
   "cell_type": "code",
   "execution_count": 33,
   "id": "49b7bb20",
   "metadata": {
    "scrolled": true
   },
   "outputs": [],
   "source": [
    "\n",
    "activeMinutes = FitaBasedailyActivity_mergedRaw\\\n",
    "    .withColumn('VeryActiveMinutes',col('VeryActiveMinutes').cast(IntegerType()))\\\n",
    "    .withColumn('FairlyActiveMinutes',col('FairlyActiveMinutes').cast(IntegerType()))\\\n",
    "    .withColumn('LightlyActiveMinutes',col('LightlyActiveMinutes').cast(IntegerType()))\\\n",
    "    .withColumn('SedentaryMinutes',col('SedentaryMinutes').cast(IntegerType()))\\\n",
    "    .select('VeryActiveMinutes','FairlyActiveMinutes','LightlyActiveMinutes','SedentaryMinutes')\n",
    "\n",
    "pie_chart_data = activeMinutes.select(avg('VeryActiveMinutes').alias('AverageVeryActiveMinutes'),\\\n",
    "                    avg('FairlyActiveMinutes').alias('AverageFairlyActiveMinutes'),\\\n",
    "                    avg('LightlyActiveMinutes').alias('AverageLightlyActiveMinutes'),\\\n",
    "                    avg('SedentaryMinutes').alias('AverageSedentaryMinutes'))\\\n",
    "    .toPandas().T\n",
    "\n",
    "pie_chart_data.columns = ['Value']"
   ]
  },
  {
   "cell_type": "code",
   "execution_count": 34,
   "id": "75ed1fac",
   "metadata": {},
   "outputs": [],
   "source": [
    "pie_chart_data.to_csv('4_5_activity_intensity.csv')"
   ]
  },
  {
   "cell_type": "code",
   "execution_count": 35,
   "id": "9b8a15b2",
   "metadata": {},
   "outputs": [
    {
     "data": {
      "text/plain": [
       "<AxesSubplot:ylabel='Value'>"
      ]
     },
     "execution_count": 35,
     "metadata": {},
     "output_type": "execute_result"
    },
    {
     "data": {
      "image/png": "[encoded data removed]",
      "text/plain": [
       "<Figure size 1080x360 with 1 Axes>"
      ]
     },
     "metadata": {},
     "output_type": "display_data"
    }
   ],
   "source": [
    "pie_chart_data.plot.pie(y='Value')"
   ]
  },
  {
   "cell_type": "markdown",
   "id": "9e7adec1",
   "metadata": {},
   "source": [
    "<a id='4.6'></a>\n",
    "#4.6 Average very active Distance per very active minute for each user"
   ]
  },
  {
   "cell_type": "code",
   "execution_count": 36,
   "id": "e108b5e6",
   "metadata": {
    "scrolled": false
   },
   "outputs": [],
   "source": [
    "activedf = FitaBasedailyActivity_mergedRaw.select('Id','ActivityDate','VeryActiveDistance','VeryActiveMinutes')\\\n",
    "    .withColumn('VeryActiveMinutes',col('VeryActiveMinutes').cast(IntegerType()))\\\n",
    "    .withColumn('VeryActiveDistance',col('VeryActiveDistance').cast(DoubleType()))\\\n",
    "    .groupBy('Id').agg(avg('VeryActiveMinutes').alias('AvgVeryActiveMinutes'),avg('VeryActiveDistance').alias('AvgVeryActiveDistance'))\\\n",
    "    .withColumn('VeryActiveDistanceMinutes',col('AvgVeryActiveDistance')/col('AvgVeryActiveMinutes'))\\\n",
    "    .sort(col('VeryActiveDistanceMinutes').desc())\\\n",
    "    .toPandas().to_csv('4_6_activemin.csv')"
   ]
  },
  {
   "cell_type": "markdown",
   "id": "ec2ddbdc",
   "metadata": {},
   "source": [
    "This shows that for each person, s/he travels 80 meters to 110 meters under a very active distance on average"
   ]
  },
  {
   "cell_type": "markdown",
   "id": "49cddd61",
   "metadata": {},
   "source": [
    "<a id='4.7'></a>\n",
    "#4.7 Scatter plot Calories vs Time Slept"
   ]
  },
  {
   "cell_type": "code",
   "execution_count": 37,
   "id": "ea800afa",
   "metadata": {},
   "outputs": [],
   "source": [
    "cal_time_df = FitaBasesleepDay_mergedRaw\\\n",
    "    .select('Id','SleepDay','TotalMinutesAsleep','TotalTimeInBed')\\\n",
    "    .withColumn('Date',substring('SleepDay',1,9))\\\n",
    "    .join(FitaBasedailyCalories_mergedRaw.select('Id','ActivityDay','Calories')\\\n",
    "                  .withColumn('Date',substring('ActivityDay',1,9))\\\n",
    "              ,['Id','Date'])\n",
    "\n",
    "cal_time_df.select(corr(col('TotalMinutesAsleep'),col('Calories'))).toPandas().to_csv('4_7_corr.csv')\n"
   ]
  },
  {
   "cell_type": "code",
   "execution_count": 50,
   "id": "91306d92",
   "metadata": {},
   "outputs": [],
   "source": [
    "cal_time_df.toPandas().to_csv('4_7_forJorge.csv')"
   ]
  },
  {
   "cell_type": "code",
   "execution_count": 38,
   "id": "1d86f0a5",
   "metadata": {},
   "outputs": [
    {
     "data": {
      "text/plain": [
       "<AxesSubplot:xlabel='TotalMinutesAsleep', ylabel='Calories'>"
      ]
     },
     "execution_count": 38,
     "metadata": {},
     "output_type": "execute_result"
    },
    {
     "data": {
      "image/png": "[encoded data removed]",
      "text/plain": [
       "<Figure size 1080x360 with 1 Axes>"
      ]
     },
     "metadata": {
      "needs_background": "light"
     },
     "output_type": "display_data"
    }
   ],
   "source": [
    "cal_time_df.select('TotalMinutesAsleep','Calories')\\\n",
    "    .withColumn('Calories',col('Calories').cast(DoubleType()))\\\n",
    "    .withColumn('TotalMinutesAsleep',col('TotalMinutesAsleep').cast(IntegerType()))\\\n",
    "    .toPandas().plot(x='TotalMinutesAsleep',y='Calories',kind='scatter')"
   ]
  },
  {
   "cell_type": "markdown",
   "id": "ca630dec",
   "metadata": {},
   "source": [
    "<a id='4.8'></a>\n",
    "#4.8 We want to analyze the correlation between heartrate, calories spending, intensitries, and steps"
   ]
  },
  {
   "cell_type": "code",
   "execution_count": 39,
   "id": "7b54771e",
   "metadata": {
    "scrolled": true
   },
   "outputs": [
    {
     "name": "stderr",
     "output_type": "stream",
     "text": [
      "[Stage 86:=============================>                            (4 + 4) / 8]\r"
     ]
    },
    {
     "name": "stdout",
     "output_type": "stream",
     "text": [
      "+----------+-------------------+------------------+\n",
      "|        Id|               Date|         Heartrate|\n",
      "+----------+-------------------+------------------+\n",
      "|2347167796|2016-04-15 09:00:00| 75.18808411214954|\n",
      "|2022484408|2016-04-15 09:00:00|117.06666666666666|\n",
      "|4020332650|2016-04-15 09:00:00|112.67044809982984|\n",
      "|4388161847|2016-04-15 09:00:00| 67.36036036036036|\n",
      "|5553957443|2016-04-15 09:00:00| 62.92727272727273|\n",
      "|5577150313|2016-04-15 09:00:00| 65.41063084112149|\n",
      "|6117666160|2016-04-15 09:00:00| 93.78365384615384|\n",
      "|6775888955|2016-04-15 09:00:00| 79.51836734693877|\n",
      "|6962181067|2016-04-15 09:00:00| 85.41133004926108|\n",
      "|8792009665|2016-04-15 09:00:00|63.409893992932865|\n",
      "+----------+-------------------+------------------+\n",
      "\n"
     ]
    },
    {
     "name": "stderr",
     "output_type": "stream",
     "text": [
      "\r",
      "[Stage 86:===========================================>              (6 + 2) / 8]\r",
      "\r",
      "                                                                                \r"
     ]
    }
   ],
   "source": [
    "heart_rate = FitaBaseheartrate_seconds_mergedRaw\\\n",
    "    .where(\"Id not in ('2320127002','7007744171','4558609924')\")\\\n",
    "    .select('Id','Value',\\\n",
    "        split(split(col(\"Time\"),\" \")[0],'/')[0].alias('Month'),\\\n",
    "        split(split(col(\"Time\"),\" \")[0],'/')[1].alias('Day'),\\\n",
    "        split(split(col(\"Time\"),\" \")[0],'/')[2].alias('Year'),\\\n",
    "        split(split(col(\"Time\"),\" \")[1],':')[0].alias('Hour'))\\\n",
    "    .withColumn('DateSTR',\\\n",
    "                concat_ws(' ',\\\n",
    "                concat_ws(\"-\",\\\n",
    "                          col('Year'),\\\n",
    "                          when(length(col('Month'))==1,concat(lit('0'),col('Month'))),\\\n",
    "                          when(length(col('Month'))==2,col('Month')),\\\n",
    "                          when(length(col('Day'))==1,concat(lit('0'),col('Day'))),\\\n",
    "                          when(length(col('Day'))==2,col('Day')),\\\n",
    "                         ),\\\n",
    "                          \n",
    "                          when(length(col('Hour'))==1,concat(lit('0'),col('Hour'))),\\\n",
    "                          when(length(col('Hour'))==2,col('Hour'))\\\n",
    "                         )\\\n",
    "               )\\\n",
    "    .withColumn('Date',to_timestamp(col('DateSTR'),'yyyy-MM-dd HH'))\\\n",
    "    .withColumn('Value',col('Value').cast(IntegerType()))\\\n",
    "    .select('Id','Date','Value')\\\n",
    "    .groupBy('Id','Date').agg(avg('Value').alias('Heartrate'))\n",
    "\n",
    "\n",
    "\n",
    "heart_rate.where(col('Date')=='2016-04-15 09:00:00').limit(10).show()\n",
    "\n",
    "    #.withColumn('Hour',concat(lit('INTERVAL '),col('Hour'),lit(' HOURS')))\\"
   ]
  },
  {
   "cell_type": "code",
   "execution_count": 40,
   "id": "5f19f8e8",
   "metadata": {},
   "outputs": [
    {
     "name": "stdout",
     "output_type": "stream",
     "text": [
      "+----------+-------------------+--------+\n",
      "|        Id|               Date|Calories|\n",
      "+----------+-------------------+--------+\n",
      "|2347167796|2016-04-15 09:00:00|    88.5|\n",
      "+----------+-------------------+--------+\n",
      "\n"
     ]
    }
   ],
   "source": [
    "hourly_calories = FitaBasehourlyCalories_mergedRaw\\\n",
    "    .where(\"Id not in ('2320127002','7007744171','4558609924')\")\\\n",
    "    .select('Id','Calories',\\\n",
    "        split(split(col(\"ActivityHour\"),\" \")[0],'/')[0].alias('Month'),\\\n",
    "        split(split(col(\"ActivityHour\"),\" \")[0],'/')[1].alias('Day'),\\\n",
    "        split(split(col(\"ActivityHour\"),\" \")[0],'/')[2].alias('Year'),\\\n",
    "        split(split(col(\"ActivityHour\"),\" \")[1],':')[0].alias('Hour'))\\\n",
    "    .withColumn('DateSTR',\\\n",
    "                concat_ws(' ',\\\n",
    "                concat_ws(\"-\",\\\n",
    "                          col('Year'),\\\n",
    "                          when(length(col('Month'))==1,concat(lit('0'),col('Month'))),\\\n",
    "                          when(length(col('Month'))==2,col('Month')),\\\n",
    "                          when(length(col('Day'))==1,concat(lit('0'),col('Day'))),\\\n",
    "                          when(length(col('Day'))==2,col('Day')),\\\n",
    "                         ),\\\n",
    "                          \n",
    "                          when(length(col('Hour'))==1,concat(lit('0'),col('Hour'))),\\\n",
    "                          when(length(col('Hour'))==2,col('Hour'))\\\n",
    "                         )\\\n",
    "               )\\\n",
    "    .withColumn('Date',to_timestamp(col('DateSTR'),'yyyy-MM-dd HH'))\\\n",
    "    .withColumn('Calories',col('Calories').cast(IntegerType()))\\\n",
    "    .select('Id','Date','Calories')\\\n",
    "    .groupBy('Id','Date').agg(avg('Calories').alias('Calories'))\n",
    "\n",
    "\n",
    "\n",
    "hourly_calories.where(col('Id')=='2347167796').where(col('Date')=='2016-04-15 09:00:00').limit(10).show()\n",
    "\n",
    "    #.withColumn('Hour',concat(lit('INTERVAL '),col('Hour'),lit(' HOURS')))\\"
   ]
  },
  {
   "cell_type": "code",
   "execution_count": 41,
   "id": "aa831bad",
   "metadata": {},
   "outputs": [
    {
     "name": "stdout",
     "output_type": "stream",
     "text": [
      "+----------+-------------------+---------+\n",
      "|        Id|               Date|Intensity|\n",
      "+----------+-------------------+---------+\n",
      "|2347167796|2016-04-15 09:00:00|     16.0|\n",
      "+----------+-------------------+---------+\n",
      "\n"
     ]
    }
   ],
   "source": [
    "hourly_intensities = FitaBasehourlyIntensities_mergedRaw\\\n",
    "    .where(\"Id not in ('2320127002','7007744171','4558609924')\")\\\n",
    "    .select('Id','TotalIntensity',\\\n",
    "        split(split(col(\"ActivityHour\"),\" \")[0],'/')[0].alias('Month'),\\\n",
    "        split(split(col(\"ActivityHour\"),\" \")[0],'/')[1].alias('Day'),\\\n",
    "        split(split(col(\"ActivityHour\"),\" \")[0],'/')[2].alias('Year'),\\\n",
    "        split(split(col(\"ActivityHour\"),\" \")[1],':')[0].alias('Hour'))\\\n",
    "    .withColumn('DateSTR',\\\n",
    "                concat_ws(' ',\\\n",
    "                concat_ws(\"-\",\\\n",
    "                          col('Year'),\\\n",
    "                          when(length(col('Month'))==1,concat(lit('0'),col('Month'))),\\\n",
    "                          when(length(col('Month'))==2,col('Month')),\\\n",
    "                          when(length(col('Day'))==1,concat(lit('0'),col('Day'))),\\\n",
    "                          when(length(col('Day'))==2,col('Day')),\\\n",
    "                         ),\\\n",
    "                          \n",
    "                          when(length(col('Hour'))==1,concat(lit('0'),col('Hour'))),\\\n",
    "                          when(length(col('Hour'))==2,col('Hour'))\\\n",
    "                         )\\\n",
    "               )\\\n",
    "    .withColumn('Date',to_timestamp(col('DateSTR'),'yyyy-MM-dd HH'))\\\n",
    "    .withColumn('TotalIntensity',col('TotalIntensity').cast(IntegerType()))\\\n",
    "    .select('Id','Date','TotalIntensity')\\\n",
    "    .groupBy('Id','Date').agg(avg('TotalIntensity').alias('Intensity'))\n",
    "\n",
    "\n",
    "hourly_intensities.where(col('Id')=='2347167796').where(col('Date')=='2016-04-15 09:00:00').limit(10).show()\n",
    "\n",
    "    #.withColumn('Hour',concat(lit('INTERVAL '),col('Hour'),lit(' HOURS')))\\"
   ]
  },
  {
   "cell_type": "code",
   "execution_count": 42,
   "id": "fbacf87b",
   "metadata": {},
   "outputs": [
    {
     "name": "stdout",
     "output_type": "stream",
     "text": [
      "+----------+-------------------+---------+\n",
      "|        Id|               Date|StepTotal|\n",
      "+----------+-------------------+---------+\n",
      "|2347167796|2016-04-15 09:00:00|    292.5|\n",
      "+----------+-------------------+---------+\n",
      "\n"
     ]
    }
   ],
   "source": [
    "hourly_steps = FitaBasehourlySteps_mergedRaw\\\n",
    "    .where(\"Id not in ('2320127002','7007744171','4558609924')\")\\\n",
    "    .select('Id','StepTotal',\\\n",
    "        split(split(col(\"ActivityHour\"),\" \")[0],'/')[0].alias('Month'),\\\n",
    "        split(split(col(\"ActivityHour\"),\" \")[0],'/')[1].alias('Day'),\\\n",
    "        split(split(col(\"ActivityHour\"),\" \")[0],'/')[2].alias('Year'),\\\n",
    "        split(split(col(\"ActivityHour\"),\" \")[1],':')[0].alias('Hour'))\\\n",
    "    .withColumn('DateSTR',\\\n",
    "                concat_ws(' ',\\\n",
    "                concat_ws(\"-\",\\\n",
    "                          col('Year'),\\\n",
    "                          when(length(col('Month'))==1,concat(lit('0'),col('Month'))),\\\n",
    "                          when(length(col('Month'))==2,col('Month')),\\\n",
    "                          when(length(col('Day'))==1,concat(lit('0'),col('Day'))),\\\n",
    "                          when(length(col('Day'))==2,col('Day')),\\\n",
    "                         ),\\\n",
    "                          \n",
    "                          when(length(col('Hour'))==1,concat(lit('0'),col('Hour'))),\\\n",
    "                          when(length(col('Hour'))==2,col('Hour'))\\\n",
    "                         )\\\n",
    "               )\\\n",
    "    .withColumn('Date',to_timestamp(col('DateSTR'),'yyyy-MM-dd HH'))\\\n",
    "    .withColumn('StepTotal',col('StepTotal').cast(IntegerType()))\\\n",
    "    .select('Id','Date','StepTotal')\\\n",
    "    .groupBy('Id','Date').agg(avg('StepTotal').alias('StepTotal'))\n",
    "\n",
    "\n",
    "hourly_steps.where(col('Id')=='2347167796').where(col('Date')=='2016-04-15 09:00:00').limit(10).show()\n",
    "\n",
    "    #.withColumn('Hour',concat(lit('INTERVAL '),col('Hour'),lit(' HOURS')))\\\n",
    "    \n"
   ]
  },
  {
   "cell_type": "code",
   "execution_count": 43,
   "id": "0c236d8f",
   "metadata": {},
   "outputs": [],
   "source": [
    "info_df = heart_rate.join(hourly_calories,['Id','Date'])\\\n",
    "    .join(hourly_intensities,['Id','Date'])\\\n",
    "    .join(hourly_steps,['Id','Date'])\\\n",
    "    .select('Heartrate','Calories','Intensity','StepTotal')"
   ]
  },
  {
   "cell_type": "code",
   "execution_count": 44,
   "id": "4fa791c6",
   "metadata": {},
   "outputs": [
    {
     "name": "stderr",
     "output_type": "stream",
     "text": [
      "/opt/spark3/python/pyspark/sql/context.py:125: FutureWarning: Deprecated in 3.0.0. Use SparkSession.builder.getOrCreate() instead.\n",
      "  warnings.warn(\n"
     ]
    }
   ],
   "source": [
    "# convert to vector column first\n",
    "vector_col = \"corr_features\"\n",
    "assembler = VectorAssembler(inputCols=info_df.columns, outputCol=vector_col)\n",
    "df_vector = assembler.transform(info_df).select(vector_col)\n",
    "\n",
    "# get correlation matrix\n",
    "matrix = Correlation.corr(df_vector, vector_col)\n",
    "cor_np = matrix.collect()[0][matrix.columns[0]].toArray()"
   ]
  },
  {
   "cell_type": "code",
   "execution_count": 45,
   "id": "b674c81e",
   "metadata": {},
   "outputs": [
    {
     "data": {
      "text/plain": [
       "['Heartrate', 'Calories', 'Intensity', 'StepTotal']"
      ]
     },
     "execution_count": 45,
     "metadata": {},
     "output_type": "execute_result"
    }
   ],
   "source": [
    "info_df.columns"
   ]
  },
  {
   "cell_type": "code",
   "execution_count": 46,
   "id": "9f53b59f",
   "metadata": {
    "scrolled": true
   },
   "outputs": [
    {
     "data": {
      "text/plain": [
       "array([[1.        , 0.59829653, 0.63499079, 0.5966728 ],\n",
       "       [0.59829653, 1.        , 0.88239547, 0.78739293],\n",
       "       [0.63499079, 0.88239547, 1.        , 0.85666549],\n",
       "       [0.5966728 , 0.78739293, 0.85666549, 1.        ]])"
      ]
     },
     "execution_count": 46,
     "metadata": {},
     "output_type": "execute_result"
    }
   ],
   "source": [
    "cor_np"
   ]
  },
  {
   "cell_type": "markdown",
   "id": "4b7e1c96",
   "metadata": {},
   "source": [
    "<a id='5'></a>\n",
    "## 5 Conclustion and Recommendation"
   ]
  },
  {
   "cell_type": "markdown",
   "id": "070807da",
   "metadata": {},
   "source": [
    "<a id='5.1'></a>\n",
    "#5.1 Conclusions from Data Overview"
   ]
  },
  {
   "cell_type": "markdown",
   "id": "2de320a6",
   "metadata": {},
   "source": [
    "#5.1.1 Our data contains 33 uniqure person and tracked their activity records from 4/12/2016 to 5/9/2016."
   ]
  },
  {
   "cell_type": "markdown",
   "id": "3335e70b",
   "metadata": {},
   "source": [
    "#5.1.2 Our data is pretty cleaned except the column type is string, this is due to the data ingestion, which consider all the columns as string when transferring the data"
   ]
  },
  {
   "cell_type": "markdown",
   "id": "a2b59328",
   "metadata": {},
   "source": [
    "#5.1.3 Heart rate data has a legit upper, low, and average rate, so we would consider all data from this resource is valid"
   ]
  },
  {
   "cell_type": "markdown",
   "id": "da6eed79",
   "metadata": {},
   "source": [
    "#5.1.4 The following users has a weird sleep behavior and only a few records: ('2320127002','7007744171','4558609924'). As a result, we decided to remove these values from our future analysis. This ends up with 30 users instead"
   ]
  },
  {
   "cell_type": "markdown",
   "id": "16b3fc41",
   "metadata": {},
   "source": [
    "<a id='5.2'></a>\n",
    "#5.2 Conclusions from Data Analysis"
   ]
  },
  {
   "cell_type": "markdown",
   "id": "027e0d07",
   "metadata": {},
   "source": [
    "#5.2.1 We see active users has been going through a downward trend, the more the date, the less active users engaged in this app."
   ]
  },
  {
   "cell_type": "markdown",
   "id": "bb423184",
   "metadata": {},
   "source": [
    "#5.2.2 The correlation between Step Total and Calories burned is 0.577, this is an indication that there is some correlation between these two factors. This shows that we are somewhat able to conclude the more we walk, the more calories get burned"
   ]
  },
  {
   "cell_type": "markdown",
   "id": "f8c13a3e",
   "metadata": {},
   "source": [
    "#5.2.3 From day of the week perspective, we see Sunday is the day that users burned the least calories and walked least amount of steps. This could because users are tend to do personal things at home instead of going out."
   ]
  },
  {
   "cell_type": "markdown",
   "id": "455d5d58",
   "metadata": {},
   "source": [
    "#5.2.4 We also analyze if the percentage of very active distance for a users would impact the distance a user travel, which gives us a correlation of 0.3, which indicates that there may be other factors that impacts distance a user travel while percentage of very active distance only make a marginal contribution"
   ]
  },
  {
   "cell_type": "markdown",
   "id": "2db4c525",
   "metadata": {},
   "source": [
    "#5.2.5 The percentage of the type of active minutes shows that very active minutes only a small percentage out of all the tracked minutes, this makes sense as users can only be very active to a limited time"
   ]
  },
  {
   "cell_type": "markdown",
   "id": "10a68742",
   "metadata": {},
   "source": [
    "#5.2.6 Very active distance under very active minutes shows that users would walk from 78 metres to 108 metres\n",
    "We see there is no correlation between total minutes sleep and calories burnt."
   ]
  },
  {
   "cell_type": "markdown",
   "id": "e07ebce7",
   "metadata": {},
   "source": [
    "#5.2.7 If we break Heart rate, Calories, Intensity, and Step Total down to hourly perspective, we see factors have strong correlation between each other [0.59, 0.88]. In this case, these factors are relevant for further analysis."
   ]
  },
  {
   "cell_type": "markdown",
   "id": "e56699ca",
   "metadata": {},
   "source": [
    "<a id='5.3'></a>\n",
    "#5.3 Recommendations"
   ]
  },
  {
   "cell_type": "markdown",
   "id": "f6338a92",
   "metadata": {},
   "source": [
    "#5.3.1 Users retention is always important for us to have a quality data analysis; hence, we need to work on how to engage our users to keep using our app."
   ]
  },
  {
   "cell_type": "markdown",
   "id": "5429c5a3",
   "metadata": {},
   "source": [
    "#5.3.2 If we look down the data to hourly data, not only see a stronger correlation between step total and calories compare to daily perspective, but all the factors is more accurate. Hence, we should consider our future data analysis would focus on hourly basis, or even minutes basis if possible"
   ]
  },
  {
   "cell_type": "markdown",
   "id": "346510f4",
   "metadata": {},
   "source": [
    "#5.3.3 Distance traveled by very active users is at around 100 meters. In this case, we might consider to have another level to differentiate people who are walking fast and who actually running/jogging."
   ]
  }
 ],
 "metadata": {
  "kernelspec": {
   "display_name": "Python 3 (ipykernel)",
   "language": "python",
   "name": "python3"
  },
  "language_info": {
   "codemirror_mode": {
    "name": "ipython",
    "version": 3
   },
   "file_extension": ".py",
   "mimetype": "text/x-python",
   "name": "python",
   "nbconvert_exporter": "python",
   "pygments_lexer": "ipython3",
   "version": "3.9.2"
  }
 },
 "nbformat": 4,
 "nbformat_minor": 5
}
